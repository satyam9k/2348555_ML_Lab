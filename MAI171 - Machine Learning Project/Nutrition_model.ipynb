{
  "nbformat": 4,
  "nbformat_minor": 0,
  "metadata": {
    "colab": {
      "provenance": []
    },
    "kernelspec": {
      "name": "python3",
      "display_name": "Python 3"
    },
    "language_info": {
      "name": "python"
    }
  },
  "cells": [
    {
      "cell_type": "markdown",
      "source": [
        "The code aims to preprocess nutritional data, train machine learning models, evaluate their performance, visualize results, conduct network analysis, and analyze nutrient correlations for insightful understanding."
      ],
      "metadata": {
        "id": "QVuwoEA87hkA"
      }
    },
    {
      "cell_type": "markdown",
      "source": [
        "Importing Libraries"
      ],
      "metadata": {
        "id": "3G11PbThDNzJ"
      }
    },
    {
      "cell_type": "code",
      "execution_count": null,
      "metadata": {
        "id": "v2mun-CNTQhR"
      },
      "outputs": [],
      "source": [
        "import pandas as pd\n",
        "from sklearn.model_selection import train_test_split\n",
        "from sklearn.preprocessing import MinMaxScaler, OneHotEncoder, LabelEncoder\n",
        "from sklearn.impute import SimpleImputer\n",
        "from sklearn.linear_model import LogisticRegression\n",
        "from sklearn.svm import SVC\n",
        "from sklearn.ensemble import RandomForestClassifier\n",
        "from sklearn.metrics import accuracy_score, precision_score, recall_score, f1_score, confusion_matrix\n",
        "import matplotlib.pyplot as plt\n",
        "import seaborn as sns\n",
        "\n"
      ]
    },
    {
      "cell_type": "markdown",
      "source": [
        "Loading Dataset"
      ],
      "metadata": {
        "id": "pH7wyWa5DRro"
      }
    },
    {
      "cell_type": "code",
      "source": [
        "# Load the data into a pandas DataFrame\n",
        "# Assuming the data is loaded into a DataFrame called df\n",
        "df = pd.read_csv('/content/nutrients_csvfile.csv')\n",
        "df"
      ],
      "metadata": {
        "colab": {
          "base_uri": "https://localhost:8080/",
          "height": 423
        },
        "id": "uAJ_jLjxRern",
        "outputId": "1cee751d-69f3-4912-8bf8-2c422ea208c9"
      },
      "execution_count": null,
      "outputs": [
        {
          "output_type": "execute_result",
          "data": {
            "text/plain": [
              "                      Food Measure  Grams Calories Protein Fat Sat.Fat Fiber  \\\n",
              "0               Cows' milk   1 qt.    976      660      32  40      36     0   \n",
              "1                Milk skim   1 qt.    984      360      36   t       t     0   \n",
              "2               Buttermilk   1 cup    246      127       9   5       4     0   \n",
              "3    Evaporated, undiluted   1 cup    252      345      16  20      18     0   \n",
              "4           Fortified milk  6 cups  1,419    1,373      89  42      23   1.4   \n",
              "..                     ...     ...    ...      ...     ...  ..     ...   ...   \n",
              "330    Fruit-flavored soda  12 oz.    346      161       0   0       0     0   \n",
              "331             Ginger ale  12 oz.    346      105       0   0       0     0   \n",
              "332              Root beer  12 oz.    346      140       0   0       0     0   \n",
              "333                 Coffee   1 cup    230        3       t   0       0     0   \n",
              "334                    Tea   1 cup    230        4       0   t       0     0   \n",
              "\n",
              "    Carbs                   Category  \n",
              "0      48             Dairy products  \n",
              "1      52             Dairy products  \n",
              "2      13             Dairy products  \n",
              "3      24             Dairy products  \n",
              "4     119             Dairy products  \n",
              "..    ...                        ...  \n",
              "330    42  Drinks,Alcohol, Beverages  \n",
              "331    28  Drinks,Alcohol, Beverages  \n",
              "332    35  Drinks,Alcohol, Beverages  \n",
              "333     1  Drinks,Alcohol, Beverages  \n",
              "334     1  Drinks,Alcohol, Beverages  \n",
              "\n",
              "[335 rows x 10 columns]"
            ],
            "text/html": [
              "\n",
              "  <div id=\"df-39ecb418-329f-4c65-9a5c-fa618ee2ebb3\" class=\"colab-df-container\">\n",
              "    <div>\n",
              "<style scoped>\n",
              "    .dataframe tbody tr th:only-of-type {\n",
              "        vertical-align: middle;\n",
              "    }\n",
              "\n",
              "    .dataframe tbody tr th {\n",
              "        vertical-align: top;\n",
              "    }\n",
              "\n",
              "    .dataframe thead th {\n",
              "        text-align: right;\n",
              "    }\n",
              "</style>\n",
              "<table border=\"1\" class=\"dataframe\">\n",
              "  <thead>\n",
              "    <tr style=\"text-align: right;\">\n",
              "      <th></th>\n",
              "      <th>Food</th>\n",
              "      <th>Measure</th>\n",
              "      <th>Grams</th>\n",
              "      <th>Calories</th>\n",
              "      <th>Protein</th>\n",
              "      <th>Fat</th>\n",
              "      <th>Sat.Fat</th>\n",
              "      <th>Fiber</th>\n",
              "      <th>Carbs</th>\n",
              "      <th>Category</th>\n",
              "    </tr>\n",
              "  </thead>\n",
              "  <tbody>\n",
              "    <tr>\n",
              "      <th>0</th>\n",
              "      <td>Cows' milk</td>\n",
              "      <td>1 qt.</td>\n",
              "      <td>976</td>\n",
              "      <td>660</td>\n",
              "      <td>32</td>\n",
              "      <td>40</td>\n",
              "      <td>36</td>\n",
              "      <td>0</td>\n",
              "      <td>48</td>\n",
              "      <td>Dairy products</td>\n",
              "    </tr>\n",
              "    <tr>\n",
              "      <th>1</th>\n",
              "      <td>Milk skim</td>\n",
              "      <td>1 qt.</td>\n",
              "      <td>984</td>\n",
              "      <td>360</td>\n",
              "      <td>36</td>\n",
              "      <td>t</td>\n",
              "      <td>t</td>\n",
              "      <td>0</td>\n",
              "      <td>52</td>\n",
              "      <td>Dairy products</td>\n",
              "    </tr>\n",
              "    <tr>\n",
              "      <th>2</th>\n",
              "      <td>Buttermilk</td>\n",
              "      <td>1 cup</td>\n",
              "      <td>246</td>\n",
              "      <td>127</td>\n",
              "      <td>9</td>\n",
              "      <td>5</td>\n",
              "      <td>4</td>\n",
              "      <td>0</td>\n",
              "      <td>13</td>\n",
              "      <td>Dairy products</td>\n",
              "    </tr>\n",
              "    <tr>\n",
              "      <th>3</th>\n",
              "      <td>Evaporated, undiluted</td>\n",
              "      <td>1 cup</td>\n",
              "      <td>252</td>\n",
              "      <td>345</td>\n",
              "      <td>16</td>\n",
              "      <td>20</td>\n",
              "      <td>18</td>\n",
              "      <td>0</td>\n",
              "      <td>24</td>\n",
              "      <td>Dairy products</td>\n",
              "    </tr>\n",
              "    <tr>\n",
              "      <th>4</th>\n",
              "      <td>Fortified milk</td>\n",
              "      <td>6 cups</td>\n",
              "      <td>1,419</td>\n",
              "      <td>1,373</td>\n",
              "      <td>89</td>\n",
              "      <td>42</td>\n",
              "      <td>23</td>\n",
              "      <td>1.4</td>\n",
              "      <td>119</td>\n",
              "      <td>Dairy products</td>\n",
              "    </tr>\n",
              "    <tr>\n",
              "      <th>...</th>\n",
              "      <td>...</td>\n",
              "      <td>...</td>\n",
              "      <td>...</td>\n",
              "      <td>...</td>\n",
              "      <td>...</td>\n",
              "      <td>...</td>\n",
              "      <td>...</td>\n",
              "      <td>...</td>\n",
              "      <td>...</td>\n",
              "      <td>...</td>\n",
              "    </tr>\n",
              "    <tr>\n",
              "      <th>330</th>\n",
              "      <td>Fruit-flavored soda</td>\n",
              "      <td>12 oz.</td>\n",
              "      <td>346</td>\n",
              "      <td>161</td>\n",
              "      <td>0</td>\n",
              "      <td>0</td>\n",
              "      <td>0</td>\n",
              "      <td>0</td>\n",
              "      <td>42</td>\n",
              "      <td>Drinks,Alcohol, Beverages</td>\n",
              "    </tr>\n",
              "    <tr>\n",
              "      <th>331</th>\n",
              "      <td>Ginger ale</td>\n",
              "      <td>12 oz.</td>\n",
              "      <td>346</td>\n",
              "      <td>105</td>\n",
              "      <td>0</td>\n",
              "      <td>0</td>\n",
              "      <td>0</td>\n",
              "      <td>0</td>\n",
              "      <td>28</td>\n",
              "      <td>Drinks,Alcohol, Beverages</td>\n",
              "    </tr>\n",
              "    <tr>\n",
              "      <th>332</th>\n",
              "      <td>Root beer</td>\n",
              "      <td>12 oz.</td>\n",
              "      <td>346</td>\n",
              "      <td>140</td>\n",
              "      <td>0</td>\n",
              "      <td>0</td>\n",
              "      <td>0</td>\n",
              "      <td>0</td>\n",
              "      <td>35</td>\n",
              "      <td>Drinks,Alcohol, Beverages</td>\n",
              "    </tr>\n",
              "    <tr>\n",
              "      <th>333</th>\n",
              "      <td>Coffee</td>\n",
              "      <td>1 cup</td>\n",
              "      <td>230</td>\n",
              "      <td>3</td>\n",
              "      <td>t</td>\n",
              "      <td>0</td>\n",
              "      <td>0</td>\n",
              "      <td>0</td>\n",
              "      <td>1</td>\n",
              "      <td>Drinks,Alcohol, Beverages</td>\n",
              "    </tr>\n",
              "    <tr>\n",
              "      <th>334</th>\n",
              "      <td>Tea</td>\n",
              "      <td>1 cup</td>\n",
              "      <td>230</td>\n",
              "      <td>4</td>\n",
              "      <td>0</td>\n",
              "      <td>t</td>\n",
              "      <td>0</td>\n",
              "      <td>0</td>\n",
              "      <td>1</td>\n",
              "      <td>Drinks,Alcohol, Beverages</td>\n",
              "    </tr>\n",
              "  </tbody>\n",
              "</table>\n",
              "<p>335 rows × 10 columns</p>\n",
              "</div>\n",
              "    <div class=\"colab-df-buttons\">\n",
              "\n",
              "  <div class=\"colab-df-container\">\n",
              "    <button class=\"colab-df-convert\" onclick=\"convertToInteractive('df-39ecb418-329f-4c65-9a5c-fa618ee2ebb3')\"\n",
              "            title=\"Convert this dataframe to an interactive table.\"\n",
              "            style=\"display:none;\">\n",
              "\n",
              "  <svg xmlns=\"http://www.w3.org/2000/svg\" height=\"24px\" viewBox=\"0 -960 960 960\">\n",
              "    <path d=\"M120-120v-720h720v720H120Zm60-500h600v-160H180v160Zm220 220h160v-160H400v160Zm0 220h160v-160H400v160ZM180-400h160v-160H180v160Zm440 0h160v-160H620v160ZM180-180h160v-160H180v160Zm440 0h160v-160H620v160Z\"/>\n",
              "  </svg>\n",
              "    </button>\n",
              "\n",
              "  <style>\n",
              "    .colab-df-container {\n",
              "      display:flex;\n",
              "      gap: 12px;\n",
              "    }\n",
              "\n",
              "    .colab-df-convert {\n",
              "      background-color: #E8F0FE;\n",
              "      border: none;\n",
              "      border-radius: 50%;\n",
              "      cursor: pointer;\n",
              "      display: none;\n",
              "      fill: #1967D2;\n",
              "      height: 32px;\n",
              "      padding: 0 0 0 0;\n",
              "      width: 32px;\n",
              "    }\n",
              "\n",
              "    .colab-df-convert:hover {\n",
              "      background-color: #E2EBFA;\n",
              "      box-shadow: 0px 1px 2px rgba(60, 64, 67, 0.3), 0px 1px 3px 1px rgba(60, 64, 67, 0.15);\n",
              "      fill: #174EA6;\n",
              "    }\n",
              "\n",
              "    .colab-df-buttons div {\n",
              "      margin-bottom: 4px;\n",
              "    }\n",
              "\n",
              "    [theme=dark] .colab-df-convert {\n",
              "      background-color: #3B4455;\n",
              "      fill: #D2E3FC;\n",
              "    }\n",
              "\n",
              "    [theme=dark] .colab-df-convert:hover {\n",
              "      background-color: #434B5C;\n",
              "      box-shadow: 0px 1px 3px 1px rgba(0, 0, 0, 0.15);\n",
              "      filter: drop-shadow(0px 1px 2px rgba(0, 0, 0, 0.3));\n",
              "      fill: #FFFFFF;\n",
              "    }\n",
              "  </style>\n",
              "\n",
              "    <script>\n",
              "      const buttonEl =\n",
              "        document.querySelector('#df-39ecb418-329f-4c65-9a5c-fa618ee2ebb3 button.colab-df-convert');\n",
              "      buttonEl.style.display =\n",
              "        google.colab.kernel.accessAllowed ? 'block' : 'none';\n",
              "\n",
              "      async function convertToInteractive(key) {\n",
              "        const element = document.querySelector('#df-39ecb418-329f-4c65-9a5c-fa618ee2ebb3');\n",
              "        const dataTable =\n",
              "          await google.colab.kernel.invokeFunction('convertToInteractive',\n",
              "                                                    [key], {});\n",
              "        if (!dataTable) return;\n",
              "\n",
              "        const docLinkHtml = 'Like what you see? Visit the ' +\n",
              "          '<a target=\"_blank\" href=https://colab.research.google.com/notebooks/data_table.ipynb>data table notebook</a>'\n",
              "          + ' to learn more about interactive tables.';\n",
              "        element.innerHTML = '';\n",
              "        dataTable['output_type'] = 'display_data';\n",
              "        await google.colab.output.renderOutput(dataTable, element);\n",
              "        const docLink = document.createElement('div');\n",
              "        docLink.innerHTML = docLinkHtml;\n",
              "        element.appendChild(docLink);\n",
              "      }\n",
              "    </script>\n",
              "  </div>\n",
              "\n",
              "\n",
              "<div id=\"df-2f24361c-c776-4a98-b01a-90da7dcd469c\">\n",
              "  <button class=\"colab-df-quickchart\" onclick=\"quickchart('df-2f24361c-c776-4a98-b01a-90da7dcd469c')\"\n",
              "            title=\"Suggest charts.\"\n",
              "            style=\"display:none;\">\n",
              "\n",
              "<svg xmlns=\"http://www.w3.org/2000/svg\" height=\"24px\"viewBox=\"0 0 24 24\"\n",
              "     width=\"24px\">\n",
              "    <g>\n",
              "        <path d=\"M19 3H5c-1.1 0-2 .9-2 2v14c0 1.1.9 2 2 2h14c1.1 0 2-.9 2-2V5c0-1.1-.9-2-2-2zM9 17H7v-7h2v7zm4 0h-2V7h2v10zm4 0h-2v-4h2v4z\"/>\n",
              "    </g>\n",
              "</svg>\n",
              "  </button>\n",
              "\n",
              "<style>\n",
              "  .colab-df-quickchart {\n",
              "      --bg-color: #E8F0FE;\n",
              "      --fill-color: #1967D2;\n",
              "      --hover-bg-color: #E2EBFA;\n",
              "      --hover-fill-color: #174EA6;\n",
              "      --disabled-fill-color: #AAA;\n",
              "      --disabled-bg-color: #DDD;\n",
              "  }\n",
              "\n",
              "  [theme=dark] .colab-df-quickchart {\n",
              "      --bg-color: #3B4455;\n",
              "      --fill-color: #D2E3FC;\n",
              "      --hover-bg-color: #434B5C;\n",
              "      --hover-fill-color: #FFFFFF;\n",
              "      --disabled-bg-color: #3B4455;\n",
              "      --disabled-fill-color: #666;\n",
              "  }\n",
              "\n",
              "  .colab-df-quickchart {\n",
              "    background-color: var(--bg-color);\n",
              "    border: none;\n",
              "    border-radius: 50%;\n",
              "    cursor: pointer;\n",
              "    display: none;\n",
              "    fill: var(--fill-color);\n",
              "    height: 32px;\n",
              "    padding: 0;\n",
              "    width: 32px;\n",
              "  }\n",
              "\n",
              "  .colab-df-quickchart:hover {\n",
              "    background-color: var(--hover-bg-color);\n",
              "    box-shadow: 0 1px 2px rgba(60, 64, 67, 0.3), 0 1px 3px 1px rgba(60, 64, 67, 0.15);\n",
              "    fill: var(--button-hover-fill-color);\n",
              "  }\n",
              "\n",
              "  .colab-df-quickchart-complete:disabled,\n",
              "  .colab-df-quickchart-complete:disabled:hover {\n",
              "    background-color: var(--disabled-bg-color);\n",
              "    fill: var(--disabled-fill-color);\n",
              "    box-shadow: none;\n",
              "  }\n",
              "\n",
              "  .colab-df-spinner {\n",
              "    border: 2px solid var(--fill-color);\n",
              "    border-color: transparent;\n",
              "    border-bottom-color: var(--fill-color);\n",
              "    animation:\n",
              "      spin 1s steps(1) infinite;\n",
              "  }\n",
              "\n",
              "  @keyframes spin {\n",
              "    0% {\n",
              "      border-color: transparent;\n",
              "      border-bottom-color: var(--fill-color);\n",
              "      border-left-color: var(--fill-color);\n",
              "    }\n",
              "    20% {\n",
              "      border-color: transparent;\n",
              "      border-left-color: var(--fill-color);\n",
              "      border-top-color: var(--fill-color);\n",
              "    }\n",
              "    30% {\n",
              "      border-color: transparent;\n",
              "      border-left-color: var(--fill-color);\n",
              "      border-top-color: var(--fill-color);\n",
              "      border-right-color: var(--fill-color);\n",
              "    }\n",
              "    40% {\n",
              "      border-color: transparent;\n",
              "      border-right-color: var(--fill-color);\n",
              "      border-top-color: var(--fill-color);\n",
              "    }\n",
              "    60% {\n",
              "      border-color: transparent;\n",
              "      border-right-color: var(--fill-color);\n",
              "    }\n",
              "    80% {\n",
              "      border-color: transparent;\n",
              "      border-right-color: var(--fill-color);\n",
              "      border-bottom-color: var(--fill-color);\n",
              "    }\n",
              "    90% {\n",
              "      border-color: transparent;\n",
              "      border-bottom-color: var(--fill-color);\n",
              "    }\n",
              "  }\n",
              "</style>\n",
              "\n",
              "  <script>\n",
              "    async function quickchart(key) {\n",
              "      const quickchartButtonEl =\n",
              "        document.querySelector('#' + key + ' button');\n",
              "      quickchartButtonEl.disabled = true;  // To prevent multiple clicks.\n",
              "      quickchartButtonEl.classList.add('colab-df-spinner');\n",
              "      try {\n",
              "        const charts = await google.colab.kernel.invokeFunction(\n",
              "            'suggestCharts', [key], {});\n",
              "      } catch (error) {\n",
              "        console.error('Error during call to suggestCharts:', error);\n",
              "      }\n",
              "      quickchartButtonEl.classList.remove('colab-df-spinner');\n",
              "      quickchartButtonEl.classList.add('colab-df-quickchart-complete');\n",
              "    }\n",
              "    (() => {\n",
              "      let quickchartButtonEl =\n",
              "        document.querySelector('#df-2f24361c-c776-4a98-b01a-90da7dcd469c button');\n",
              "      quickchartButtonEl.style.display =\n",
              "        google.colab.kernel.accessAllowed ? 'block' : 'none';\n",
              "    })();\n",
              "  </script>\n",
              "</div>\n",
              "    </div>\n",
              "  </div>\n"
            ]
          },
          "metadata": {},
          "execution_count": 2
        }
      ]
    },
    {
      "cell_type": "markdown",
      "source": [
        "Preprocessing"
      ],
      "metadata": {
        "id": "T0fgSnVyDUqN"
      }
    },
    {
      "cell_type": "code",
      "source": [
        "# Data Preprocessing\n",
        "# Remove unnecessary columns and set appropriate data types\n",
        "df = df[['Food', 'Measure', 'Grams', 'Calories', 'Protein', 'Fat', 'Sat.Fat', 'Fiber', 'Carbs', 'Category']]\n",
        "\n",
        "# Convert columns to numeric, handling errors\n",
        "columns_to_convert = ['Grams', 'Calories', 'Protein', 'Fat', 'Sat.Fat', 'Fiber', 'Carbs']\n",
        "df[columns_to_convert] = df[columns_to_convert].apply(pd.to_numeric, errors='coerce')\n",
        "\n",
        "# Drop rows with missing values (NaN) in the 'Grams' column\n",
        "df.dropna(subset=['Grams'], inplace=True)"
      ],
      "metadata": {
        "id": "c7jIAS_TRxcU"
      },
      "execution_count": null,
      "outputs": []
    },
    {
      "cell_type": "code",
      "source": [
        "# Handling missing data\n",
        "df.fillna(0, inplace=True)  # Replace missing values with 0\n",
        "\n"
      ],
      "metadata": {
        "id": "8Nj_I7OQR1hS"
      },
      "execution_count": null,
      "outputs": []
    },
    {
      "cell_type": "code",
      "source": [
        "# Data Scaling\n",
        "scaler = MinMaxScaler()\n",
        "df[['Grams', 'Calories', 'Protein', 'Fat', 'Sat.Fat', 'Fiber', 'Carbs']] = scaler.fit_transform(df[['Grams', 'Calories', 'Protein', 'Fat', 'Sat.Fat', 'Fiber', 'Carbs']])\n",
        "\n"
      ],
      "metadata": {
        "id": "EPstfOomSFph"
      },
      "execution_count": null,
      "outputs": []
    },
    {
      "cell_type": "code",
      "source": [
        "# Encoding categorical variables\n",
        "encoder = LabelEncoder()\n",
        "df['Category'] = encoder.fit_transform(df['Category'])\n"
      ],
      "metadata": {
        "id": "KCn6mkVASHc9"
      },
      "execution_count": null,
      "outputs": []
    },
    {
      "cell_type": "markdown",
      "source": [
        "Training"
      ],
      "metadata": {
        "id": "O9WPyznMDXU8"
      }
    },
    {
      "cell_type": "code",
      "source": [
        "# Model Training\n",
        "X = df[['Grams', 'Calories', 'Protein', 'Fat', 'Sat.Fat', 'Fiber', 'Carbs']]\n",
        "y = df['Category']"
      ],
      "metadata": {
        "id": "0gdeDFMIS5r0"
      },
      "execution_count": null,
      "outputs": []
    },
    {
      "cell_type": "code",
      "source": [
        "# Split the data into training and testing sets\n",
        "X_train, X_test, y_train, y_test = train_test_split(X, y, test_size=0.2, random_state=42)\n"
      ],
      "metadata": {
        "id": "55AVAOa1S7-m"
      },
      "execution_count": null,
      "outputs": []
    },
    {
      "cell_type": "markdown",
      "source": [
        "Model BUilding"
      ],
      "metadata": {
        "id": "4FF2fJlCDdlg"
      }
    },
    {
      "cell_type": "code",
      "source": [
        "# Train models\n",
        "lr_model = LogisticRegression()\n",
        "svm_model = SVC()\n",
        "rf_model = RandomForestClassifier()\n",
        "\n",
        "lr_model.fit(X_train, y_train)\n",
        "svm_model.fit(X_train, y_train)\n",
        "rf_model.fit(X_train, y_train)\n"
      ],
      "metadata": {
        "colab": {
          "base_uri": "https://localhost:8080/",
          "height": 74
        },
        "id": "P8J47Gi-S-CI",
        "outputId": "f82469cd-4ae8-4259-9198-b3fb74a88a72"
      },
      "execution_count": null,
      "outputs": [
        {
          "output_type": "execute_result",
          "data": {
            "text/plain": [
              "RandomForestClassifier()"
            ],
            "text/html": [
              "<style>#sk-container-id-1 {color: black;background-color: white;}#sk-container-id-1 pre{padding: 0;}#sk-container-id-1 div.sk-toggleable {background-color: white;}#sk-container-id-1 label.sk-toggleable__label {cursor: pointer;display: block;width: 100%;margin-bottom: 0;padding: 0.3em;box-sizing: border-box;text-align: center;}#sk-container-id-1 label.sk-toggleable__label-arrow:before {content: \"▸\";float: left;margin-right: 0.25em;color: #696969;}#sk-container-id-1 label.sk-toggleable__label-arrow:hover:before {color: black;}#sk-container-id-1 div.sk-estimator:hover label.sk-toggleable__label-arrow:before {color: black;}#sk-container-id-1 div.sk-toggleable__content {max-height: 0;max-width: 0;overflow: hidden;text-align: left;background-color: #f0f8ff;}#sk-container-id-1 div.sk-toggleable__content pre {margin: 0.2em;color: black;border-radius: 0.25em;background-color: #f0f8ff;}#sk-container-id-1 input.sk-toggleable__control:checked~div.sk-toggleable__content {max-height: 200px;max-width: 100%;overflow: auto;}#sk-container-id-1 input.sk-toggleable__control:checked~label.sk-toggleable__label-arrow:before {content: \"▾\";}#sk-container-id-1 div.sk-estimator input.sk-toggleable__control:checked~label.sk-toggleable__label {background-color: #d4ebff;}#sk-container-id-1 div.sk-label input.sk-toggleable__control:checked~label.sk-toggleable__label {background-color: #d4ebff;}#sk-container-id-1 input.sk-hidden--visually {border: 0;clip: rect(1px 1px 1px 1px);clip: rect(1px, 1px, 1px, 1px);height: 1px;margin: -1px;overflow: hidden;padding: 0;position: absolute;width: 1px;}#sk-container-id-1 div.sk-estimator {font-family: monospace;background-color: #f0f8ff;border: 1px dotted black;border-radius: 0.25em;box-sizing: border-box;margin-bottom: 0.5em;}#sk-container-id-1 div.sk-estimator:hover {background-color: #d4ebff;}#sk-container-id-1 div.sk-parallel-item::after {content: \"\";width: 100%;border-bottom: 1px solid gray;flex-grow: 1;}#sk-container-id-1 div.sk-label:hover label.sk-toggleable__label {background-color: #d4ebff;}#sk-container-id-1 div.sk-serial::before {content: \"\";position: absolute;border-left: 1px solid gray;box-sizing: border-box;top: 0;bottom: 0;left: 50%;z-index: 0;}#sk-container-id-1 div.sk-serial {display: flex;flex-direction: column;align-items: center;background-color: white;padding-right: 0.2em;padding-left: 0.2em;position: relative;}#sk-container-id-1 div.sk-item {position: relative;z-index: 1;}#sk-container-id-1 div.sk-parallel {display: flex;align-items: stretch;justify-content: center;background-color: white;position: relative;}#sk-container-id-1 div.sk-item::before, #sk-container-id-1 div.sk-parallel-item::before {content: \"\";position: absolute;border-left: 1px solid gray;box-sizing: border-box;top: 0;bottom: 0;left: 50%;z-index: -1;}#sk-container-id-1 div.sk-parallel-item {display: flex;flex-direction: column;z-index: 1;position: relative;background-color: white;}#sk-container-id-1 div.sk-parallel-item:first-child::after {align-self: flex-end;width: 50%;}#sk-container-id-1 div.sk-parallel-item:last-child::after {align-self: flex-start;width: 50%;}#sk-container-id-1 div.sk-parallel-item:only-child::after {width: 0;}#sk-container-id-1 div.sk-dashed-wrapped {border: 1px dashed gray;margin: 0 0.4em 0.5em 0.4em;box-sizing: border-box;padding-bottom: 0.4em;background-color: white;}#sk-container-id-1 div.sk-label label {font-family: monospace;font-weight: bold;display: inline-block;line-height: 1.2em;}#sk-container-id-1 div.sk-label-container {text-align: center;}#sk-container-id-1 div.sk-container {/* jupyter's `normalize.less` sets `[hidden] { display: none; }` but bootstrap.min.css set `[hidden] { display: none !important; }` so we also need the `!important` here to be able to override the default hidden behavior on the sphinx rendered scikit-learn.org. See: https://github.com/scikit-learn/scikit-learn/issues/21755 */display: inline-block !important;position: relative;}#sk-container-id-1 div.sk-text-repr-fallback {display: none;}</style><div id=\"sk-container-id-1\" class=\"sk-top-container\"><div class=\"sk-text-repr-fallback\"><pre>RandomForestClassifier()</pre><b>In a Jupyter environment, please rerun this cell to show the HTML representation or trust the notebook. <br />On GitHub, the HTML representation is unable to render, please try loading this page with nbviewer.org.</b></div><div class=\"sk-container\" hidden><div class=\"sk-item\"><div class=\"sk-estimator sk-toggleable\"><input class=\"sk-toggleable__control sk-hidden--visually\" id=\"sk-estimator-id-1\" type=\"checkbox\" checked><label for=\"sk-estimator-id-1\" class=\"sk-toggleable__label sk-toggleable__label-arrow\">RandomForestClassifier</label><div class=\"sk-toggleable__content\"><pre>RandomForestClassifier()</pre></div></div></div></div></div>"
            ]
          },
          "metadata": {},
          "execution_count": 15
        }
      ]
    },
    {
      "cell_type": "markdown",
      "source": [
        "Evaluation"
      ],
      "metadata": {
        "id": "La91OPTfDgf7"
      }
    },
    {
      "cell_type": "code",
      "source": [
        "# Model Evaluation\n",
        "# Evaluate using appropriate metrics\n",
        "def evaluate_model(model, X_test, y_test):\n",
        "    y_pred = model.predict(X_test)\n",
        "    accuracy = accuracy_score(y_test, y_pred)\n",
        "    precision = precision_score(y_test, y_pred, average='weighted')\n",
        "    recall = recall_score(y_test, y_pred, average='weighted')\n",
        "    f1 = f1_score(y_test, y_pred, average='weighted')\n",
        "    cm = confusion_matrix(y_test, y_pred)\n",
        "    return accuracy, precision, recall, f1, cm\n"
      ],
      "metadata": {
        "id": "R1WIad4YTDk0"
      },
      "execution_count": null,
      "outputs": []
    },
    {
      "cell_type": "code",
      "source": [
        "# Evaluate each model\n",
        "lr_accuracy, lr_precision, lr_recall, lr_f1, lr_cm = evaluate_model(lr_model, X_test, y_test)\n",
        "svm_accuracy, svm_precision, svm_recall, svm_f1, svm_cm = evaluate_model(svm_model, X_test, y_test)\n",
        "rf_accuracy, rf_precision, rf_recall, rf_f1, rf_cm = evaluate_model(rf_model, X_test, y_test)\n",
        "\n",
        "# Comparative Study\n",
        "# Create a DataFrame for comparative study\n",
        "comparison_df = pd.DataFrame({\n",
        "    'Model': ['Logistic Regression', 'SVM', 'Random Forest'],\n",
        "    'Accuracy': [lr_accuracy, svm_accuracy, rf_accuracy],\n",
        "    'Precision': [lr_precision, svm_precision, rf_precision],\n",
        "    'Recall': [lr_recall, svm_recall, rf_recall],\n",
        "    'F1 Score': [lr_f1, svm_f1, rf_f1]\n",
        "})"
      ],
      "metadata": {
        "colab": {
          "base_uri": "https://localhost:8080/"
        },
        "id": "BQMKjvoSTIED",
        "outputId": "ecff23b3-a0a1-42dd-9a10-33b724477eef"
      },
      "execution_count": null,
      "outputs": [
        {
          "output_type": "stream",
          "name": "stderr",
          "text": [
            "/usr/local/lib/python3.10/dist-packages/sklearn/metrics/_classification.py:1344: UndefinedMetricWarning: Precision is ill-defined and being set to 0.0 in labels with no predicted samples. Use `zero_division` parameter to control this behavior.\n",
            "  _warn_prf(average, modifier, msg_start, len(result))\n",
            "/usr/local/lib/python3.10/dist-packages/sklearn/metrics/_classification.py:1344: UndefinedMetricWarning: Precision is ill-defined and being set to 0.0 in labels with no predicted samples. Use `zero_division` parameter to control this behavior.\n",
            "  _warn_prf(average, modifier, msg_start, len(result))\n",
            "/usr/local/lib/python3.10/dist-packages/sklearn/metrics/_classification.py:1344: UndefinedMetricWarning: Recall is ill-defined and being set to 0.0 in labels with no true samples. Use `zero_division` parameter to control this behavior.\n",
            "  _warn_prf(average, modifier, msg_start, len(result))\n"
          ]
        }
      ]
    },
    {
      "cell_type": "code",
      "source": [
        "# Plot evaluation metrics for comparison\n",
        "plt.figure(figsize=(10, 6))\n",
        "sns.barplot(data=comparison_df, x='Model', y='Accuracy')\n",
        "plt.title('Model Comparison - Accuracy')\n",
        "plt.show()\n",
        "\n",
        "plt.figure(figsize=(10, 6))\n",
        "sns.barplot(data=comparison_df, x='Model', y='F1 Score')\n",
        "plt.title('Model Comparison - F1 Score')\n",
        "plt.show()\n",
        "\n",
        "# Print confusion matrices\n",
        "print(\"Confusion Matrix - Logistic Regression:\")\n",
        "print(lr_cm)\n",
        "print(\"\\nConfusion Matrix - SVM:\")\n",
        "print(svm_cm)\n",
        "print(\"\\nConfusion Matrix - Random Forest:\")\n",
        "print(rf_cm)"
      ],
      "metadata": {
        "colab": {
          "base_uri": "https://localhost:8080/",
          "height": 1000
        },
        "id": "uClMFaoXTLOn",
        "outputId": "5f3abbc5-6bba-4b1e-9d3a-99838b993d34"
      },
      "execution_count": null,
      "outputs": [
        {
          "output_type": "display_data",
          "data": {
            "text/plain": [
              "<Figure size 1000x600 with 1 Axes>"
            ],
            "image/png": "[encoded data removed]"
          },
          "metadata": {}
        },
        {
          "output_type": "display_data",
          "data": {
            "text/plain": [
              "<Figure size 1000x600 with 1 Axes>"
            ],
            "image/png": "[encoded data removed]"
          },
          "metadata": {}
        },
        {
          "output_type": "stream",
          "name": "stdout",
          "text": [
            "Confusion Matrix - Logistic Regression:\n",
            "[[7 0 0 0 0 0 0 0 0 0 0 0 0 0 0]\n",
            " [6 0 0 0 0 0 0 0 0 0 0 0 0 0 0]\n",
            " [5 0 0 0 0 0 0 0 0 0 0 0 0 0 0]\n",
            " [3 0 0 0 0 0 0 0 0 0 0 0 0 0 0]\n",
            " [0 0 0 0 0 0 0 0 0 1 0 0 0 0 0]\n",
            " [8 0 0 0 1 0 0 0 0 0 0 0 0 0 0]\n",
            " [6 0 0 0 0 0 0 0 0 0 0 0 0 0 0]\n",
            " [5 0 0 0 0 0 0 0 0 0 0 0 0 0 0]\n",
            " [1 0 0 0 0 0 0 0 0 0 0 0 0 0 0]\n",
            " [1 0 0 0 0 0 0 0 0 5 0 0 0 0 0]\n",
            " [0 0 0 0 0 0 0 0 0 3 0 0 0 0 0]\n",
            " [1 0 0 0 0 0 0 0 0 0 0 0 0 0 0]\n",
            " [6 0 0 0 0 0 0 0 0 0 0 0 0 0 1]\n",
            " [2 0 0 0 0 0 0 0 0 0 0 0 0 0 0]\n",
            " [5 0 0 0 0 0 0 0 0 0 0 0 0 0 0]]\n",
            "\n",
            "Confusion Matrix - SVM:\n",
            "[[6 0 0 0 0 0 0 1 0 0 0 0 0 0 0]\n",
            " [3 2 0 0 1 0 0 0 0 0 0 0 0 0 0]\n",
            " [4 0 0 0 0 0 0 1 0 0 0 0 0 0 0]\n",
            " [1 0 0 0 0 0 0 1 0 0 0 0 0 0 1]\n",
            " [0 0 0 0 1 0 0 0 0 0 0 0 0 0 0]\n",
            " [1 0 0 0 0 0 0 0 0 7 0 0 0 0 1]\n",
            " [2 0 0 0 0 0 0 3 0 0 0 0 0 0 1]\n",
            " [1 0 0 0 0 0 0 3 0 0 0 0 0 0 1]\n",
            " [1 0 0 0 0 0 0 0 0 0 0 0 0 0 0]\n",
            " [0 0 0 0 0 0 0 0 0 6 0 0 0 0 0]\n",
            " [0 0 0 0 0 0 0 0 0 3 0 0 0 0 0]\n",
            " [0 0 0 0 0 0 0 1 0 0 0 0 0 0 0]\n",
            " [1 0 0 0 0 0 0 1 0 0 0 0 4 0 1]\n",
            " [0 0 0 0 0 0 0 0 0 0 0 0 1 0 1]\n",
            " [2 1 0 0 0 0 0 0 0 0 0 0 2 0 0]]\n",
            "\n",
            "Confusion Matrix - Random Forest:\n",
            "[[4 1 2 0 0 0 0 0 0 0 0 0 0 0 0 0]\n",
            " [1 4 0 0 0 0 0 0 0 0 1 0 0 0 0 0]\n",
            " [2 1 1 0 0 0 0 1 0 0 0 0 0 0 0 0]\n",
            " [0 0 0 2 0 0 0 0 0 0 0 0 0 0 0 1]\n",
            " [0 0 0 0 1 0 0 0 0 0 0 0 0 0 0 0]\n",
            " [0 0 0 0 1 6 0 0 0 0 2 0 0 0 0 0]\n",
            " [1 0 0 0 0 0 2 1 1 0 0 0 0 0 1 0]\n",
            " [0 0 0 0 0 0 1 4 0 0 0 0 0 0 0 0]\n",
            " [0 0 0 0 0 0 0 0 0 0 0 0 0 0 0 0]\n",
            " [0 0 0 0 0 0 0 0 0 1 0 0 0 0 0 0]\n",
            " [0 0 0 0 0 0 0 0 0 0 6 0 0 0 0 0]\n",
            " [0 0 0 0 0 0 0 0 0 0 0 3 0 0 0 0]\n",
            " [0 0 0 0 0 0 0 0 0 0 0 0 1 0 0 0]\n",
            " [2 0 0 0 0 0 0 0 0 0 0 0 0 4 0 1]\n",
            " [1 0 0 0 0 0 0 0 0 0 0 0 0 1 0 0]\n",
            " [1 0 1 0 0 0 0 0 0 0 0 0 0 1 0 2]]\n"
          ]
        }
      ]
    },
    {
      "cell_type": "code",
      "source": [
        "from sklearn.model_selection import GridSearchCV\n",
        "\n",
        "# Define the hyperparameters and values to search\n",
        "param_grid = {\n",
        "    'n_estimators': [50, 100, 150],\n",
        "    'max_depth': [None, 10, 20, 30],\n",
        "    'min_samples_split': [2, 5, 10],\n",
        "    'min_samples_leaf': [1, 2, 4]\n",
        "}\n",
        "\n",
        "# Create the Random Forest model\n",
        "rf_model = RandomForestClassifier(random_state=42)\n",
        "\n",
        "# Create the GridSearchCV object\n",
        "grid_search = GridSearchCV(rf_model, param_grid, cv=5, n_jobs=-1)\n",
        "\n",
        "# Fit the grid search to the data\n",
        "grid_search.fit(X_train, y_train)\n",
        "\n",
        "# Get the best parameters and model\n",
        "best_params = grid_search.best_params_\n",
        "best_rf_model = grid_search.best_estimator_\n",
        "\n",
        "print(\"Best Hyperparameters:\", best_params)\n",
        "\n",
        "# Train the best model\n",
        "best_rf_model.fit(X_train, y_train)\n",
        "\n",
        "# Evaluate the model\n",
        "y_pred = best_rf_model.predict(X_test)\n",
        "accuracy = accuracy_score(y_test, y_pred)\n",
        "print(\"Accuracy:\", accuracy)\n"
      ],
      "metadata": {
        "colab": {
          "base_uri": "https://localhost:8080/"
        },
        "id": "-cHx46v-TOUX",
        "outputId": "a9f87376-cb76-4033-db4b-23a00200bff1"
      },
      "execution_count": null,
      "outputs": [
        {
          "output_type": "stream",
          "name": "stdout",
          "text": [
            "Best Hyperparameters: {'max_depth': None, 'min_samples_leaf': 2, 'min_samples_split': 2, 'n_estimators': 100}\n",
            "Accuracy: 0.6119402985074627\n"
          ]
        }
      ]
    },
    {
      "cell_type": "code",
      "source": [
        "# Fit the model to the training data to get feature importances\n",
        "rf_model.fit(X_train, y_train)\n",
        "\n",
        "# Get feature importances\n",
        "feature_importances = rf_model.feature_importances_\n",
        "\n",
        "# Create a DataFrame to display feature importances\n",
        "feature_importance_df = pd.DataFrame({\n",
        "    'Feature': X_train.columns,\n",
        "    'Importance': feature_importances\n",
        "})\n",
        "\n",
        "# Sort the features by importance\n",
        "feature_importance_df = feature_importance_df.sort_values(by='Importance', ascending=False)\n",
        "\n",
        "print(\"Feature Importances:\\n\", feature_importance_df)\n",
        "\n",
        "# Plot the feature importances\n",
        "plt.figure(figsize=(10, 6))\n",
        "sns.barplot(x='Importance', y='Feature', data=feature_importance_df)\n",
        "plt.title('Feature Importances')\n",
        "plt.show()\n"
      ],
      "metadata": {
        "colab": {
          "base_uri": "https://localhost:8080/",
          "height": 720
        },
        "id": "diYmDDPdWAtX",
        "outputId": "e5d9c4ca-ff98-4aed-bd99-919a392716b4"
      },
      "execution_count": null,
      "outputs": [
        {
          "output_type": "stream",
          "name": "stdout",
          "text": [
            "Feature Importances:\n",
            "     Feature  Importance\n",
            "0     Grams    0.190326\n",
            "6     Carbs    0.173513\n",
            "2   Protein    0.157919\n",
            "1  Calories    0.157033\n",
            "5     Fiber    0.140920\n",
            "3       Fat    0.101003\n",
            "4   Sat.Fat    0.079286\n"
          ]
        },
        {
          "output_type": "display_data",
          "data": {
            "text/plain": [
              "<Figure size 1000x600 with 1 Axes>"
            ],
            "image/png": "[encoded data removed]"
          },
          "metadata": {}
        }
      ]
    },
    {
      "cell_type": "code",
      "source": [
        "# Assuming you have the feature_importance_df sorted by importance\n",
        "\n",
        "# Select the top n features (e.g., top 5)\n",
        "top_n = 5\n",
        "top_features = feature_importance_df['Feature'][:top_n]\n",
        "\n",
        "# Filter the training and testing data to keep only the top features\n",
        "X_train_top = X_train[top_features]\n",
        "X_test_top = X_test[top_features]\n",
        "\n",
        "# Retrain the model using only the top features\n",
        "rf_model_top = RandomForestClassifier(random_state=42)\n",
        "rf_model_top.fit(X_train_top, y_train)\n",
        "\n",
        "# Evaluate the model with the top features\n",
        "y_pred_top = rf_model_top.predict(X_test_top)\n",
        "accuracy_top = accuracy_score(y_test, y_pred_top)\n",
        "print(\"Accuracy with Top Features:\", accuracy_top)\n"
      ],
      "metadata": {
        "colab": {
          "base_uri": "https://localhost:8080/"
        },
        "id": "0Q8NauyIW05V",
        "outputId": "7b016f40-7298-4cf0-8d5b-275f596da451"
      },
      "execution_count": null,
      "outputs": [
        {
          "output_type": "stream",
          "name": "stdout",
          "text": [
            "Accuracy with Top Features: 0.5373134328358209\n"
          ]
        }
      ]
    },
    {
      "cell_type": "code",
      "source": [
        "from sklearn.utils import class_weight\n",
        "import numpy as np\n",
        "# Calculate class weights\n",
        "class_weights = class_weight.compute_class_weight('balanced', classes=np.unique(y_train), y=y_train)\n",
        "\n",
        "# Convert class weights to a dictionary for Random Forest\n",
        "class_weight_dict = dict(enumerate(class_weights))\n",
        "\n",
        "# Create the Random Forest model with class weights\n",
        "rf_model_weighted = RandomForestClassifier(random_state=42, class_weight=class_weight_dict)\n",
        "\n",
        "# Train the model\n",
        "rf_model_weighted.fit(X_train, y_train)\n",
        "\n",
        "# Evaluate the model\n",
        "y_pred_weighted = rf_model_weighted.predict(X_test)\n",
        "accuracy_weighted = accuracy_score(y_test, y_pred_weighted)\n",
        "print(\"Accuracy with Class Weights:\", accuracy_weighted)\n"
      ],
      "metadata": {
        "colab": {
          "base_uri": "https://localhost:8080/"
        },
        "id": "rIK7CQicWa9N",
        "outputId": "8783da09-1989-4448-c7e3-1253c38a96ae"
      },
      "execution_count": null,
      "outputs": [
        {
          "output_type": "stream",
          "name": "stdout",
          "text": [
            "Accuracy with Class Weights: 0.5970149253731343\n"
          ]
        }
      ]
    },
    {
      "cell_type": "code",
      "source": [
        "import matplotlib.pyplot as plt\n",
        "\n",
        "# List of accuracy scores from different methods\n",
        "accuracy_scores = [accuracy, grid_search.best_score_, accuracy_top, accuracy_weighted]\n",
        "\n",
        "# Labels for the bars\n",
        "methods = ['Original RF', 'Hyperparameter Tuning', 'Top Features RF', 'Weighted RF']\n",
        "\n",
        "# Plotting the bar chart\n",
        "plt.figure(figsize=(10, 6))\n",
        "plt.bar(methods, accuracy_scores, color=['blue', 'orange', 'green', 'red'])\n",
        "plt.xlabel('Methods')\n",
        "plt.ylabel('Accuracy')\n",
        "plt.ylim([0, 1.0])  # Set the y-axis limits between 0 and 1\n",
        "plt.title('Accuracy Comparison of Different Methods')\n",
        "plt.show()\n"
      ],
      "metadata": {
        "colab": {
          "base_uri": "https://localhost:8080/",
          "height": 564
        },
        "id": "36Ao0uqsWfz1",
        "outputId": "73713256-03c2-4214-d634-6b36c0e101d5"
      },
      "execution_count": null,
      "outputs": [
        {
          "output_type": "display_data",
          "data": {
            "text/plain": [
              "<Figure size 1000x600 with 1 Axes>"
            ],
            "image/png": "[encoded data removed]"
          },
          "metadata": {}
        }
      ]
    },
    {
      "cell_type": "code",
      "source": [
        "import networkx as nx\n",
        "import matplotlib.pyplot as plt\n",
        "\n",
        "# Create a graph\n",
        "G = nx.Graph()\n",
        "\n",
        "# Add nodes for food categories or nutrients\n",
        "food_categories = ['Dairy products', 'Meat, Poultry', 'Vegetables', 'Fruits', 'Grains', 'Sweets']\n",
        "nutrients = ['Protein', 'Fat', 'Fiber', 'Carbs']\n",
        "all_nodes = food_categories + nutrients\n",
        "G.add_nodes_from(all_nodes)\n",
        "\n",
        "# Add edges to represent relationships (you can customize these based on your analysis)\n",
        "edges = [('Dairy products', 'Protein'), ('Meat, Poultry', 'Protein'), ('Vegetables', 'Fiber'),\n",
        "         ('Fruits', 'Fiber'), ('Grains', 'Carbs'), ('Sweets', 'Carbs')]\n",
        "G.add_edges_from(edges)\n",
        "\n",
        "# Plot the network graph\n",
        "plt.figure(figsize=(10, 8))\n",
        "pos = nx.spring_layout(G)  # Positioning algorithm for the nodes\n",
        "nx.draw(G, pos, with_labels=True, node_color='lightblue', node_size=3000, font_size=12, font_weight='bold', edge_color='gray')\n",
        "plt.title('Food Categories and Nutrients Network')\n",
        "plt.show()\n",
        "\n",
        "# Compute key network metrics\n",
        "degree_centrality = nx.degree_centrality(G)\n",
        "closeness_centrality = nx.closeness_centrality(G)\n",
        "betweenness_centrality = nx.betweenness_centrality(G)\n",
        "\n",
        "# Print the key network metrics\n",
        "print('Degree Centrality:')\n",
        "print(degree_centrality)\n",
        "print('\\nCloseness Centrality:')\n",
        "print(closeness_centrality)\n",
        "print('\\nBetweenness Centrality:')\n",
        "print(betweenness_centrality)\n"
      ],
      "metadata": {
        "colab": {
          "base_uri": "https://localhost:8080/",
          "height": 1000
        },
        "id": "Mc_xX2GUYWJ-",
        "outputId": "f702107f-0527-46cb-f962-4c27c8b33624"
      },
      "execution_count": null,
      "outputs": [
        {
          "output_type": "display_data",
          "data": {
            "text/plain": [
              "<Figure size 1000x800 with 1 Axes>"
            ],
            "image/png": "[encoded data removed]"
          },
          "metadata": {}
        },
        {
          "output_type": "stream",
          "name": "stdout",
          "text": [
            "Degree Centrality:\n",
            "{'Dairy products': 0.1111111111111111, 'Meat, Poultry': 0.1111111111111111, 'Vegetables': 0.1111111111111111, 'Fruits': 0.1111111111111111, 'Grains': 0.1111111111111111, 'Sweets': 0.1111111111111111, 'Protein': 0.2222222222222222, 'Fat': 0.0, 'Fiber': 0.2222222222222222, 'Carbs': 0.2222222222222222}\n",
            "\n",
            "Closeness Centrality:\n",
            "{'Dairy products': 0.14814814814814814, 'Meat, Poultry': 0.14814814814814814, 'Vegetables': 0.14814814814814814, 'Fruits': 0.14814814814814814, 'Grains': 0.14814814814814814, 'Sweets': 0.14814814814814814, 'Protein': 0.2222222222222222, 'Fat': 0.0, 'Fiber': 0.2222222222222222, 'Carbs': 0.2222222222222222}\n",
            "\n",
            "Betweenness Centrality:\n",
            "{'Dairy products': 0.0, 'Meat, Poultry': 0.0, 'Vegetables': 0.0, 'Fruits': 0.0, 'Grains': 0.0, 'Sweets': 0.0, 'Protein': 0.027777777777777776, 'Fat': 0.0, 'Fiber': 0.027777777777777776, 'Carbs': 0.027777777777777776}\n"
          ]
        }
      ]
    },
    {
      "cell_type": "code",
      "source": [
        "# Select relevant columns for nutrient correlation analysis\n",
        "nutrient_columns = ['Protein', 'Fat', 'Fiber', 'Carbs']\n",
        "\n",
        "# Calculate the correlation matrix\n",
        "correlation_matrix = df[nutrient_columns].corr()\n",
        "\n",
        "# Plot the correlation matrix as a heatmap\n",
        "plt.figure(figsize=(10, 6))\n",
        "sns.heatmap(correlation_matrix, annot=True, cmap='coolwarm', fmt='.2f', square=True)\n",
        "plt.title('Nutrient Correlation Heatmap')\n",
        "plt.show()\n"
      ],
      "metadata": {
        "colab": {
          "base_uri": "https://localhost:8080/",
          "height": 545
        },
        "id": "FvfOsEjh3dCa",
        "outputId": "a571d9a5-51f3-4af0-f2cc-94c17ae8d2d3"
      },
      "execution_count": null,
      "outputs": [
        {
          "output_type": "display_data",
          "data": {
            "text/plain": [
              "<Figure size 1000x600 with 2 Axes>"
            ],
            "image/png": "[encoded data removed]"
          },
          "metadata": {}
        }
      ]
    },
    {
      "cell_type": "code",
      "source": [
        "import pandas as pd\n",
        "import numpy as np\n",
        "from sklearn.model_selection import train_test_split\n",
        "from sklearn.preprocessing import LabelEncoder\n",
        "from sklearn.neighbors import KNeighborsClassifier\n",
        "from sklearn.naive_bayes import GaussianNB\n",
        "from sklearn.metrics import accuracy_score, precision_score, recall_score, f1_score\n",
        "\n",
        "# Load the nutritional data into a DataFrame\n",
        "# Assuming the data is loaded into a DataFrame called 'df'\n",
        "\n",
        "# Drop rows with missing values in relevant columns\n",
        "df = df.dropna(subset=['Protein', 'Fat', 'Fiber', 'Carbs', 'Category'])\n",
        "\n",
        "# Encode the 'Category' column\n",
        "label_encoder = LabelEncoder()\n",
        "df['CategoryEncoded'] = label_encoder.fit_transform(df['Category'])\n",
        "\n",
        "# Features and target\n",
        "X = df[['Protein', 'Fat', 'Fiber', 'Carbs']]\n",
        "y = df['CategoryEncoded']\n",
        "\n",
        "# Split the data into train and test sets\n",
        "X_train, X_test, y_train, y_test = train_test_split(X, y, test_size=0.2, random_state=42)\n",
        "\n",
        "# Initialize and train K-Nearest Neighbors (KNN) model\n",
        "knn = KNeighborsClassifier()\n",
        "knn.fit(X_train, y_train)\n",
        "y_pred_knn = knn.predict(X_test)\n",
        "\n",
        "# Initialize and train Naive Bayes (GaussianNB) model\n",
        "naive_bayes = GaussianNB()\n",
        "naive_bayes.fit(X_train, y_train)\n",
        "y_pred_naive_bayes = naive_bayes.predict(X_test)\n",
        "\n",
        "# Define a function to calculate and print metrics\n",
        "def print_metrics(y_true, y_pred, model_name):\n",
        "    accuracy = accuracy_score(y_true, y_pred)\n",
        "    precision = precision_score(y_true, y_pred, average='weighted')\n",
        "    recall = recall_score(y_true, y_pred, average='weighted')\n",
        "    f1 = f1_score(y_true, y_pred, average='weighted')\n",
        "    print(f\"Metrics for {model_name}:\")\n",
        "    print(f\"Accuracy: {accuracy:.2f}\")\n",
        "    print(f\"Precision: {precision:.2f}\")\n",
        "    print(f\"Recall: {recall:.2f}\")\n",
        "    print(f\"F1 Score: {f1:.2f}\")\n",
        "    print()\n",
        "\n",
        "# Print metrics for K-Nearest Neighbors (KNN)\n",
        "print_metrics(y_test, y_pred_knn, \"K-Nearest Neighbors (KNN)\")\n",
        "\n",
        "# Print metrics for Naive Bayes\n",
        "print_metrics(y_test, y_pred_naive_bayes, \"Naive Bayes\")\n"
      ],
      "metadata": {
        "colab": {
          "base_uri": "https://localhost:8080/"
        },
        "id": "BiU-aQ1l5W7D",
        "outputId": "e5a404b5-a146-4370-af68-578fa16ec705"
      },
      "execution_count": null,
      "outputs": [
        {
          "output_type": "stream",
          "name": "stdout",
          "text": [
            "Metrics for K-Nearest Neighbors (KNN):\n",
            "Accuracy: 0.44\n",
            "Precision: 0.40\n",
            "Recall: 0.44\n",
            "F1 Score: 0.40\n",
            "\n",
            "Metrics for Naive Bayes:\n",
            "Accuracy: 0.45\n",
            "Precision: 0.50\n",
            "Recall: 0.45\n",
            "F1 Score: 0.41\n",
            "\n"
          ]
        },
        {
          "output_type": "stream",
          "name": "stderr",
          "text": [
            "/usr/local/lib/python3.10/dist-packages/sklearn/metrics/_classification.py:1344: UndefinedMetricWarning: Precision is ill-defined and being set to 0.0 in labels with no predicted samples. Use `zero_division` parameter to control this behavior.\n",
            "  _warn_prf(average, modifier, msg_start, len(result))\n"
          ]
        }
      ]
    },
    {
      "cell_type": "code",
      "source": [
        "import pandas as pd\n",
        "from sklearn.model_selection import train_test_split\n",
        "from sklearn.feature_extraction.text import CountVectorizer\n",
        "from sklearn.naive_bayes import MultinomialNB\n",
        "from sklearn.metrics import accuracy_score, classification_report\n",
        "\n",
        "# Load the dataset (assuming the dataset is in a DataFrame named 'df')\n",
        "# Replace 'your_data.csv' with the actual file path if needed\n",
        "df = pd.read_csv('/content/nutrients_csvfile.csv')\n",
        "\n",
        "# Assuming 'Food' and 'Category' are the relevant columns\n",
        "X = df['Food']  # Features\n",
        "y = df['Category']  # Target labels\n",
        "\n",
        "# Convert the food names to numerical features using CountVectorizer\n",
        "vectorizer = CountVectorizer()\n",
        "X = vectorizer.fit_transform(X)\n",
        "\n",
        "# Split the data into training and testing sets\n",
        "X_train, X_test, y_train, y_test = train_test_split(X, y, test_size=0.2, random_state=42)\n",
        "\n",
        "# Create and train the Naive Bayes classifier\n",
        "naive_bayes = MultinomialNB()\n",
        "naive_bayes.fit(X_train, y_train)\n",
        "\n",
        "# Predict the categories for the test set\n",
        "y_pred = naive_bayes.predict(X_test)\n",
        "\n",
        "# Calculate and print the accuracy\n",
        "accuracy = accuracy_score(y_test, y_pred)\n",
        "print(\"Accuracy:\", accuracy)\n",
        "\n",
        "# Print the classification report\n",
        "print(\"Classification Report:\")\n",
        "print(classification_report(y_test, y_pred))\n"
      ],
      "metadata": {
        "id": "29I1v6975wUU",
        "colab": {
          "base_uri": "https://localhost:8080/"
        },
        "outputId": "64dd59e2-5a49-4acc-803d-a8bd2ca49376"
      },
      "execution_count": null,
      "outputs": [
        {
          "output_type": "stream",
          "name": "stdout",
          "text": [
            "Accuracy: 0.373134328358209\n",
            "Classification Report:\n",
            "                                  precision    recall  f1-score   support\n",
            "\n",
            "Breads, cereals, fastfood,grains       0.20      1.00      0.33         7\n",
            "                  Dairy products       1.00      0.67      0.80         6\n",
            "                Desserts, sweets       0.50      0.40      0.44         5\n",
            "       Drinks,Alcohol, Beverages       0.00      0.00      0.00         3\n",
            "         Fats, Oils, Shortenings       0.00      0.00      0.00         1\n",
            "                   Fish, Seafood       0.00      0.00      0.00         9\n",
            "                      Fruits A-F       0.00      0.00      0.00         6\n",
            "                      Fruits G-P       0.50      0.60      0.55         5\n",
            "                   Jams, Jellies       0.00      0.00      0.00         1\n",
            "                   Meat, Poultry       0.50      0.67      0.57         6\n",
            "                  Seeds and Nuts       0.00      0.00      0.00         3\n",
            "                           Soups       1.00      1.00      1.00         1\n",
            "                  Vegetables A-E       1.00      0.14      0.25         7\n",
            "                  Vegetables F-P       0.00      0.00      0.00         2\n",
            "                  Vegetables R-Z       0.50      0.60      0.55         5\n",
            "\n",
            "                        accuracy                           0.37        67\n",
            "                       macro avg       0.35      0.34      0.30        67\n",
            "                    weighted avg       0.39      0.37      0.31        67\n",
            "\n"
          ]
        },
        {
          "output_type": "stream",
          "name": "stderr",
          "text": [
            "/usr/local/lib/python3.10/dist-packages/sklearn/metrics/_classification.py:1344: UndefinedMetricWarning: Precision and F-score are ill-defined and being set to 0.0 in labels with no predicted samples. Use `zero_division` parameter to control this behavior.\n",
            "  _warn_prf(average, modifier, msg_start, len(result))\n",
            "/usr/local/lib/python3.10/dist-packages/sklearn/metrics/_classification.py:1344: UndefinedMetricWarning: Precision and F-score are ill-defined and being set to 0.0 in labels with no predicted samples. Use `zero_division` parameter to control this behavior.\n",
            "  _warn_prf(average, modifier, msg_start, len(result))\n",
            "/usr/local/lib/python3.10/dist-packages/sklearn/metrics/_classification.py:1344: UndefinedMetricWarning: Precision and F-score are ill-defined and being set to 0.0 in labels with no predicted samples. Use `zero_division` parameter to control this behavior.\n",
            "  _warn_prf(average, modifier, msg_start, len(result))\n"
          ]
        }
      ]
    },
    {
      "cell_type": "code",
      "source": [
        "import pandas as pd\n",
        "import numpy as np\n",
        "from sklearn.model_selection import train_test_split\n",
        "from sklearn.preprocessing import LabelEncoder\n",
        "from sklearn.naive_bayes import GaussianNB\n",
        "from sklearn.metrics import accuracy_score, precision_score, recall_score, f1_score\n",
        "\n",
        "# Load the nutritional data into a DataFrame\n",
        "# Assuming the data is loaded into a DataFrame called 'df'\n",
        "\n",
        "# Drop rows with missing values in relevant columns\n",
        "df = df.dropna(subset=['Protein', 'Fat', 'Fiber', 'Carbs', 'Category'])\n",
        "\n",
        "# Handle non-numeric values in the dataset\n",
        "non_numeric_cols = ['Protein', 'Fat', 'Fiber', 'Carbs']\n",
        "df[non_numeric_cols] = df[non_numeric_cols].apply(pd.to_numeric, errors='coerce')\n",
        "\n",
        "# Drop rows with missing values again after handling non-numeric values\n",
        "df = df.dropna(subset=['Protein', 'Fat', 'Fiber', 'Carbs'])\n",
        "\n",
        "# Encode the 'Category' column\n",
        "label_encoder = LabelEncoder()\n",
        "df['CategoryEncoded'] = label_encoder.fit_transform(df['Category'])\n",
        "\n",
        "# Features and target\n",
        "X = df[['Protein', 'Fat', 'Fiber', 'Carbs']]\n",
        "y = df['CategoryEncoded']\n",
        "\n",
        "# Split the data into train and test sets\n",
        "X_train, X_test, y_train, y_test = train_test_split(X, y, test_size=0.2, random_state=42)\n",
        "\n",
        "# Initialize and train Naive Bayes (GaussianNB) model\n",
        "naive_bayes = GaussianNB()\n",
        "naive_bayes.fit(X_train, y_train)\n",
        "\n",
        "# Predict using the trained model\n",
        "y_pred_naive_bayes = naive_bayes.predict(X_test)\n",
        "\n",
        "# Evaluate the model\n",
        "accuracy = accuracy_score(y_test, y_pred_naive_bayes)\n",
        "precision = precision_score(y_test, y_pred_naive_bayes, average='weighted')\n",
        "recall = recall_score(y_test, y_pred_naive_bayes, average='weighted')\n",
        "f1 = f1_score(y_test, y_pred_naive_bayes, average='weighted')\n",
        "\n",
        "# Print evaluation metrics\n",
        "print(\"Naive Bayes Classifier Evaluation:\")\n",
        "print(f\"Accuracy: {accuracy:.2f}\")\n",
        "print(f\"Precision: {precision:.2f}\")\n",
        "print(f\"Recall: {recall:.2f}\")\n",
        "print(f\"F1 Score: {f1:.2f}\")\n"
      ],
      "metadata": {
        "colab": {
          "base_uri": "https://localhost:8080/"
        },
        "id": "7seuiifoLuUb",
        "outputId": "5ec21b35-fc15-49f1-df77-150520d0a401"
      },
      "execution_count": null,
      "outputs": [
        {
          "output_type": "stream",
          "name": "stdout",
          "text": [
            "Naive Bayes Classifier Evaluation:\n",
            "Accuracy: 0.31\n",
            "Precision: 0.24\n",
            "Recall: 0.31\n",
            "F1 Score: 0.25\n"
          ]
        },
        {
          "output_type": "stream",
          "name": "stderr",
          "text": [
            "/usr/local/lib/python3.10/dist-packages/sklearn/metrics/_classification.py:1344: UndefinedMetricWarning: Precision is ill-defined and being set to 0.0 in labels with no predicted samples. Use `zero_division` parameter to control this behavior.\n",
            "  _warn_prf(average, modifier, msg_start, len(result))\n",
            "/usr/local/lib/python3.10/dist-packages/sklearn/metrics/_classification.py:1344: UndefinedMetricWarning: Recall is ill-defined and being set to 0.0 in labels with no true samples. Use `zero_division` parameter to control this behavior.\n",
            "  _warn_prf(average, modifier, msg_start, len(result))\n"
          ]
        }
      ]
    },
    {
      "cell_type": "code",
      "source": [],
      "metadata": {
        "id": "K94hvL0EMRk6"
      },
      "execution_count": null,
      "outputs": []
    }
  ]
}